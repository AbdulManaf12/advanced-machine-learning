{
 "cells": [
  {
   "cell_type": "code",
   "execution_count": 1,
   "metadata": {},
   "outputs": [
    {
     "name": "stdout",
     "output_type": "stream",
     "text": [
      "[[1.         0.61538462]\n",
      " [0.61538462 1.        ]]\n"
     ]
    }
   ],
   "source": [
    "from sklearn.metrics.pairwise import cosine_similarity\n",
    "import numpy as np\n",
    "\n",
    "# Define two example vectors with 6 values each\n",
    "vector_1 = np.array([1, 2, 3, 4, 5, 6])\n",
    "vector_2 = np.array([6, 5, 4, 3, 2, 1])\n",
    "\n",
    "# Combine the vectors into a matrix\n",
    "vectors = np.vstack([vector_1, vector_2])\n",
    "\n",
    "# Compute the cosine similarity matrix\n",
    "cosine_matrix = cosine_similarity(vectors)\n",
    "\n",
    "print(cosine_matrix)"
   ]
  },
  {
   "cell_type": "code",
   "execution_count": 2,
   "metadata": {},
   "outputs": [
    {
     "name": "stdout",
     "output_type": "stream",
     "text": [
      "Dot Product: 25\n",
      "||d1|| (Magnitude of d1): 6.48074069840786\n",
      "||d2|| (Magnitude of d2): 4.123105625617661\n",
      "Cosine Similarity: 0.9356014857063997\n"
     ]
    }
   ],
   "source": [
    "import numpy as np\n",
    "\n",
    "# Define the two vectors as per the example\n",
    "d1 = np.array([5, 0, 3, 0, 2, 0, 0, 2, 0, 0])\n",
    "d2 = np.array([3, 0, 2, 0, 1, 1, 0, 1, 0, 1])\n",
    "\n",
    "# Step 1: Calculate the dot product\n",
    "dot_product = np.dot(d1, d2)\n",
    "\n",
    "# Step 2: Calculate the magnitude (length) of each vector\n",
    "magnitude_d1 = np.linalg.norm(d1)\n",
    "magnitude_d2 = np.linalg.norm(d2)\n",
    "\n",
    "# Step 3: Calculate cosine similarity\n",
    "cosine_similarity_value = dot_product / (magnitude_d1 * magnitude_d2)\n",
    "\n",
    "# Display the results\n",
    "print(f\"Dot Product: {dot_product}\")\n",
    "print(f\"||d1|| (Magnitude of d1): {magnitude_d1}\")\n",
    "print(f\"||d2|| (Magnitude of d2): {magnitude_d2}\")\n",
    "print(f\"Cosine Similarity: {cosine_similarity_value}\")"
   ]
  }
 ],
 "metadata": {
  "kernelspec": {
   "display_name": "Python 3",
   "language": "python",
   "name": "python3"
  },
  "language_info": {
   "codemirror_mode": {
    "name": "ipython",
    "version": 3
   },
   "file_extension": ".py",
   "mimetype": "text/x-python",
   "name": "python",
   "nbconvert_exporter": "python",
   "pygments_lexer": "ipython3",
   "version": "3.9.13"
  }
 },
 "nbformat": 4,
 "nbformat_minor": 2
}
