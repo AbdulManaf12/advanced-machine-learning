{
 "cells": [
  {
   "cell_type": "code",
   "execution_count": 1,
   "metadata": {},
   "outputs": [
    {
     "name": "stdout",
     "output_type": "stream",
     "text": [
      "Simple Matching Coefficient: 0.6\n",
      "Jaccard Coefficient: 0.5\n"
     ]
    }
   ],
   "source": [
    "import numpy as np\n",
    "from scipy.spatial import distance\n",
    "\n",
    "# Binary vectors A and B\n",
    "A = np.array([1, 0, 1, 1, 0])\n",
    "B = np.array([1, 1, 0, 1, 0])\n",
    "\n",
    "# Simple Matching Coefficient (SMC)\n",
    "smc = (np.sum(A == B)) / len(A)\n",
    "\n",
    "# Jaccard Coefficient\n",
    "jaccard = distance.jaccard(A, B)\n",
    "\n",
    "# Display results\n",
    "print(f\"Simple Matching Coefficient: {smc}\")\n",
    "print(f\"Jaccard Coefficient: {1 - jaccard}\")  # 1 - distance.jaccard is the coefficient"
   ]
  }
 ],
 "metadata": {
  "kernelspec": {
   "display_name": "base",
   "language": "python",
   "name": "python3"
  },
  "language_info": {
   "codemirror_mode": {
    "name": "ipython",
    "version": 3
   },
   "file_extension": ".py",
   "mimetype": "text/x-python",
   "name": "python",
   "nbconvert_exporter": "python",
   "pygments_lexer": "ipython3",
   "version": "3.9.13"
  }
 },
 "nbformat": 4,
 "nbformat_minor": 2
}
