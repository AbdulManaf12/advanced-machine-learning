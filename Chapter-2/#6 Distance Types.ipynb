{
 "cells": [
  {
   "cell_type": "code",
   "execution_count": 1,
   "metadata": {},
   "outputs": [
    {
     "name": "stdout",
     "output_type": "stream",
     "text": [
      "Euclidean Distance: 5.0\n",
      "Manhattan Distance: 7\n",
      "Chebyshev Distance: 4\n",
      "Minkowski Distance (p=3): 4.497941445275415\n"
     ]
    }
   ],
   "source": [
    "from scipy.spatial import distance\n",
    "\n",
    "# Example points\n",
    "A = [2, 3]\n",
    "B = [5, 7]\n",
    "\n",
    "# Euclidean distance (p=2)\n",
    "euclidean_dist = distance.euclidean(A, B)\n",
    "\n",
    "# Manhattan distance (p=1)\n",
    "manhattan_dist = distance.cityblock(A, B)\n",
    "\n",
    "# Chebyshev distance (p=infinity)\n",
    "chebyshev_dist = distance.chebyshev(A, B)\n",
    "\n",
    "# Minkowski distance (p=3, for example)\n",
    "minkowski_dist = distance.minkowski(A, B, p=3)\n",
    "\n",
    "# Output the results\n",
    "print(f\"Euclidean Distance: {euclidean_dist}\")\n",
    "print(f\"Manhattan Distance: {manhattan_dist}\")\n",
    "print(f\"Chebyshev Distance: {chebyshev_dist}\")\n",
    "print(f\"Minkowski Distance (p=3): {minkowski_dist}\")"
   ]
  }
 ],
 "metadata": {
  "kernelspec": {
   "display_name": "base",
   "language": "python",
   "name": "python3"
  },
  "language_info": {
   "codemirror_mode": {
    "name": "ipython",
    "version": 3
   },
   "file_extension": ".py",
   "mimetype": "text/x-python",
   "name": "python",
   "nbconvert_exporter": "python",
   "pygments_lexer": "ipython3",
   "version": "3.9.13"
  }
 },
 "nbformat": 4,
 "nbformat_minor": 2
}
